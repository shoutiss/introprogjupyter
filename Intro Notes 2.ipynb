{
 "cells": [
  {
   "cell_type": "raw",
   "metadata": {},
   "source": [
    "Intro to Python 2 – 2017\n",
    "\n",
    "Comparisons – The key to decision making\n",
    "\n",
    "Being able to make comparisons that are either True or False is an important tool in Python (and any other programming language).\n",
    "\n",
    "True and False are actually reserved words in Python – they represent another type of variable called a Boolean, or bool.\n",
    "\n",
    "There are a number of comparison operators - a sample of some are given below. Run the code and see what happens with each!"
   ]
  },
  {
   "cell_type": "code",
   "execution_count": 2,
   "metadata": {
    "collapsed": false
   },
   "outputs": [
    {
     "name": "stdout",
     "output_type": "stream",
     "text": [
      "True\n",
      "False\n",
      "True\n",
      "True\n",
      "False\n",
      "True\n",
      "False\n"
     ]
    }
   ],
   "source": [
    "print(5 == 5)\n",
    "print(5 == 4)\n",
    "print(5 != 4)\n",
    "print(5 > 4)\n",
    "print(5 < 4)\n",
    "print(5 <= 5)\n",
    "print(5 - 7 >= 7 - 5)\n"
   ]
  },
  {
   "cell_type": "code",
   "execution_count": null,
   "metadata": {
    "collapsed": true
   },
   "outputs": [],
   "source": []
  }
 ],
 "metadata": {
  "anaconda-cloud": {},
  "kernelspec": {
   "display_name": "Python [Root]",
   "language": "python",
   "name": "Python [Root]"
  },
  "language_info": {
   "codemirror_mode": {
    "name": "ipython",
    "version": 2
   },
   "file_extension": ".py",
   "mimetype": "text/x-python",
   "name": "python",
   "nbconvert_exporter": "python",
   "pygments_lexer": "ipython2",
   "version": "2.7.12"
  }
 },
 "nbformat": 4,
 "nbformat_minor": 0
}
